{
 "cells": [
  {
   "cell_type": "code",
   "execution_count": null,
   "id": "00b76efb-7dc4-48a8-acee-7c7f64124fb2",
   "metadata": {},
   "outputs": [],
   "source": [
    "# Q1. Write a python program to extract the video URL of the first five videos."
   ]
  },
  {
   "cell_type": "code",
   "execution_count": 12,
   "id": "b5eaea60-b59e-4df3-8bbb-b21f2c918a52",
   "metadata": {},
   "outputs": [],
   "source": [
    "import requests\n",
    "from bs4 import BeautifulSoup\n",
    "from urllib.request import urlopen as uReq\n",
    "import logging\n"
   ]
  },
  {
   "cell_type": "code",
   "execution_count": 13,
   "id": "70079bf6-576e-4f03-aea4-7c0bf163e776",
   "metadata": {},
   "outputs": [],
   "source": [
    "headers = {\"User-Agent\": \"Mozilla/5.0 (Windows NT 10.0; Win64; x64) AppleWebKit/537.36 (KHTML, like Gecko) Chrome/58.0.3029.110 Safari/537.36\"}"
   ]
  },
  {
   "cell_type": "code",
   "execution_count": 14,
   "id": "f2c60935-8e71-4a97-95a2-a43a3ba00cc8",
   "metadata": {},
   "outputs": [],
   "source": [
    "def extract_video_urls(channel_url, num_videos):\n",
    "    # Fetch the HTML content of the webpage\n",
    "    response = requests.get(channel_url)\n",
    "    html_content = response.text"
   ]
  },
  {
   "cell_type": "code",
   "execution_count": 19,
   "id": "1cdbf454-a17c-4ea0-95d7-77bb4c2ebc84",
   "metadata": {},
   "outputs": [],
   "source": [
    "response = requests.get(channel_url)"
   ]
  },
  {
   "cell_type": "code",
   "execution_count": 20,
   "id": "2b9c3869-e299-4a9c-92b7-97d8c94de7d9",
   "metadata": {},
   "outputs": [],
   "source": [
    "html_content = response.text"
   ]
  },
  {
   "cell_type": "code",
   "execution_count": 21,
   "id": "8c7d2e6d-5f0d-447a-bac1-6952a84649a9",
   "metadata": {},
   "outputs": [],
   "source": [
    "channel_url = \"https://www.youtube.com/@PW-Foundation/videos\"\n",
    "num_videos = 5"
   ]
  },
  {
   "cell_type": "code",
   "execution_count": 23,
   "id": "64222c62-b671-4b1f-b0ae-591cb8d127fb",
   "metadata": {},
   "outputs": [],
   "source": [
    "soup = BeautifulSoup(html_content, 'html.parser')"
   ]
  },
  {
   "cell_type": "code",
   "execution_count": null,
   "id": "8262515b-3e12-4f26-ab1c-c69c80afcb08",
   "metadata": {},
   "outputs": [],
   "source": [
    "soup.html.find_all"
   ]
  },
  {
   "cell_type": "code",
   "execution_count": 42,
   "id": "2847b133-41b2-4915-acc7-c2c19335edd3",
   "metadata": {},
   "outputs": [],
   "source": [
    "videos_url = soup.find(\"div\",{\"class\" : soup)"
   ]
  },
  {
   "cell_type": "code",
   "execution_count": null,
   "id": "9d022f30-1ee5-4733-a4d5-3ece254b5407",
   "metadata": {},
   "outputs": [],
   "source": [
    "soup.find(\"div\",{\"class\" : soup)\n",
    "                 "
   ]
  },
  {
   "cell_type": "code",
   "execution_count": 33,
   "id": "11bf6af7-1f0c-4323-bbcf-6f2b716546d2",
   "metadata": {},
   "outputs": [],
   "source": [
    "videos_divs = soup.find_all('div')"
   ]
  },
  {
   "cell_type": "code",
   "execution_count": 30,
   "id": "0eb8428a-0c7f-4b04-af2b-358a6b05648e",
   "metadata": {},
   "outputs": [],
   "source": [
    "extract_video_urls(channel_url, num_videos)"
   ]
  },
  {
   "cell_type": "code",
   "execution_count": 15,
   "id": "e0e38cf4-bcae-4f65-8fa8-b21f3762d194",
   "metadata": {},
   "outputs": [],
   "source": [
    "videos_divs = soup.find_all('div')"
   ]
  },
  {
   "cell_type": "code",
   "execution_count": 16,
   "id": "8201b675-d206-4381-80b0-631c8710b6a8",
   "metadata": {},
   "outputs": [],
   "source": [
    "if 'href' in videos_divs[0]:\n",
    "    video_urls = 'https://www.youtube.com' + videos_divs[0]['href']\n",
    "else:\n",
    "    video_urls = None"
   ]
  },
  {
   "cell_type": "code",
   "execution_count": 18,
   "id": "00e90752-17f8-4149-ba27-c4a93cf77f99",
   "metadata": {},
   "outputs": [
    {
     "ename": "AttributeError",
     "evalue": "'NoneType' object has no attribute 'append'",
     "output_type": "error",
     "traceback": [
      "\u001b[0;31m---------------------------------------------------------------------------\u001b[0m",
      "\u001b[0;31mAttributeError\u001b[0m                            Traceback (most recent call last)",
      "Cell \u001b[0;32mIn[18], line 1\u001b[0m\n\u001b[0;32m----> 1\u001b[0m \u001b[43mvideo_urls\u001b[49m\u001b[38;5;241;43m.\u001b[39;49m\u001b[43mappend\u001b[49m(\u001b[38;5;124m\"\u001b[39m\u001b[38;5;124mhttps://www.youtube.com\u001b[39m\u001b[38;5;124m\"\u001b[39m)\n",
      "\u001b[0;31mAttributeError\u001b[0m: 'NoneType' object has no attribute 'append'"
     ]
    }
   ],
   "source": [
    "video_urls.append(\"https://www.youtube.com\")"
   ]
  },
  {
   "cell_type": "code",
   "execution_count": 17,
   "id": "177f450d-15a5-4f66-87f2-826a87d6936e",
   "metadata": {},
   "outputs": [
    {
     "ename": "AttributeError",
     "evalue": "'NoneType' object has no attribute 'append'",
     "output_type": "error",
     "traceback": [
      "\u001b[0;31m---------------------------------------------------------------------------\u001b[0m",
      "\u001b[0;31mAttributeError\u001b[0m                            Traceback (most recent call last)",
      "Cell \u001b[0;32mIn[17], line 1\u001b[0m\n\u001b[0;32m----> 1\u001b[0m \u001b[43mvideo_urls\u001b[49m\u001b[38;5;241;43m.\u001b[39;49m\u001b[43mappend\u001b[49m(\u001b[38;5;124m\"\u001b[39m\u001b[38;5;124mhttps://www.youtube.com\u001b[39m\u001b[38;5;124m\"\u001b[39m)\n",
      "\u001b[0;31mAttributeError\u001b[0m: 'NoneType' object has no attribute 'append'"
     ]
    }
   ],
   "source": [
    "video_urls.append(\"https://www.youtube.com\")"
   ]
  },
  {
   "cell_type": "code",
   "execution_count": 40,
   "id": "27ca82cd-f989-44d8-9c2b-6b791d84125d",
   "metadata": {},
   "outputs": [
    {
     "ename": "AttributeError",
     "evalue": "'NoneType' object has no attribute 'append'",
     "output_type": "error",
     "traceback": [
      "\u001b[0;31m---------------------------------------------------------------------------\u001b[0m",
      "\u001b[0;31mAttributeError\u001b[0m                            Traceback (most recent call last)",
      "Cell \u001b[0;32mIn[40], line 1\u001b[0m\n\u001b[0;32m----> 1\u001b[0m \u001b[43mvideo_urls\u001b[49m\u001b[38;5;241;43m.\u001b[39;49m\u001b[43mappend\u001b[49m(video_urls)\n",
      "\u001b[0;31mAttributeError\u001b[0m: 'NoneType' object has no attribute 'append'"
     ]
    }
   ],
   "source": [
    "video_urls.append(video_urls)"
   ]
  },
  {
   "cell_type": "code",
   "execution_count": 29,
   "id": "fa11e734-1966-43dc-af97-b74d2800d0ec",
   "metadata": {},
   "outputs": [
    {
     "ename": "NameError",
     "evalue": "name 'videos_divs' is not defined",
     "output_type": "error",
     "traceback": [
      "\u001b[0;31m---------------------------------------------------------------------------\u001b[0m",
      "\u001b[0;31mNameError\u001b[0m                                 Traceback (most recent call last)",
      "Cell \u001b[0;32mIn[29], line 2\u001b[0m\n\u001b[1;32m      1\u001b[0m video_divs \u001b[38;5;241m=\u001b[39m soup\u001b[38;5;241m.\u001b[39mfind_all(\u001b[38;5;124m'\u001b[39m\u001b[38;5;124mdiv\u001b[39m\u001b[38;5;124m'\u001b[39m)\n\u001b[0;32m----> 2\u001b[0m video_url \u001b[38;5;241m=\u001b[39m \u001b[38;5;124m'\u001b[39m\u001b[38;5;124mhttps://www.youtube.com\u001b[39m\u001b[38;5;124m'\u001b[39m \u001b[38;5;241m+\u001b[39m \u001b[43mvideos_divs\u001b[49m[\u001b[38;5;124m'\u001b[39m\u001b[38;5;124mhref\u001b[39m\u001b[38;5;124m'\u001b[39m]\n\u001b[1;32m      3\u001b[0m video_urls\u001b[38;5;241m.\u001b[39mappend(video_url)\n",
      "\u001b[0;31mNameError\u001b[0m: name 'videos_divs' is not defined"
     ]
    }
   ],
   "source": [
    "video_divs = soup.find_all('div')\n",
    "video_url = 'https://www.youtube.com' + videos_divs['href']\n",
    "video_urls.append(video_url)"
   ]
  },
  {
   "cell_type": "code",
   "execution_count": null,
   "id": "8e1cd43e-38ba-43fd-8e83-9d49093e1f83",
   "metadata": {},
   "outputs": [],
   "source": []
  },
  {
   "cell_type": "code",
   "execution_count": 88,
   "id": "1b0b271a-038f-4bde-bf47-7c0c855b1686",
   "metadata": {},
   "outputs": [],
   "source": [
    "num_videos = 5"
   ]
  },
  {
   "cell_type": "code",
   "execution_count": 91,
   "id": "bf0f1120-5476-414b-9c07-e469fa9cfb02",
   "metadata": {},
   "outputs": [
    {
     "ename": "SyntaxError",
     "evalue": "incomplete input (3799536825.py, line 3)",
     "output_type": "error",
     "traceback": [
      "\u001b[0;36m  Cell \u001b[0;32mIn[91], line 3\u001b[0;36m\u001b[0m\n\u001b[0;31m    \u001b[0m\n\u001b[0m    ^\u001b[0m\n\u001b[0;31mSyntaxError\u001b[0m\u001b[0;31m:\u001b[0m incomplete input\n"
     ]
    }
   ],
   "source": [
    "video_urls = []\n",
    "for div in video_divs[:num_videos]:\n",
    "        \n"
   ]
  },
  {
   "cell_type": "code",
   "execution_count": 43,
   "id": "a33812f1-f97d-4574-9aab-04bb648dc538",
   "metadata": {},
   "outputs": [
    {
     "ename": "IndentationError",
     "evalue": "unexpected indent (4240459049.py, line 2)",
     "output_type": "error",
     "traceback": [
      "\u001b[0;36m  Cell \u001b[0;32mIn[43], line 2\u001b[0;36m\u001b[0m\n\u001b[0;31m    link = div.find('a', {'id': 'thumbnail'})\u001b[0m\n\u001b[0m    ^\u001b[0m\n\u001b[0;31mIndentationError\u001b[0m\u001b[0;31m:\u001b[0m unexpected indent\n"
     ]
    }
   ],
   "source": [
    "# Find the anchor tag containing the video URL\n",
    "        link = div.find('a', {'id': 'thumbnail'})\n",
    "        video_url = 'https://www.youtube.com' + link['href']\n",
    "        video_urls.append(video_url)"
   ]
  },
  {
   "cell_type": "code",
   "execution_count": null,
   "id": "51d504b1-cf40-4af8-8d44-8e3f9b462073",
   "metadata": {},
   "outputs": [],
   "source": []
  },
  {
   "cell_type": "code",
   "execution_count": 26,
   "id": "e89aba12-5b30-4e66-b56a-1417c7a3758b",
   "metadata": {},
   "outputs": [],
   "source": [
    "video_divs = soup.find_all('div')"
   ]
  },
  {
   "cell_type": "code",
   "execution_count": 45,
   "id": "979d75a9-c0da-46bc-9e0a-a882300b7e16",
   "metadata": {},
   "outputs": [],
   "source": [
    "soup = BeautifulSoup(html_content, 'html.parser')"
   ]
  },
  {
   "cell_type": "code",
   "execution_count": 46,
   "id": "3734be32-b7a5-45d9-a55a-9a660ca2ee2a",
   "metadata": {},
   "outputs": [
    {
     "ename": "IndentationError",
     "evalue": "unexpected indent (4042914671.py, line 2)",
     "output_type": "error",
     "traceback": [
      "\u001b[0;36m  Cell \u001b[0;32mIn[46], line 2\u001b[0;36m\u001b[0m\n\u001b[0;31m    video_divs = soup.find_all('div', {'id': 'dismissible'})\u001b[0m\n\u001b[0m    ^\u001b[0m\n\u001b[0;31mIndentationError\u001b[0m\u001b[0;31m:\u001b[0m unexpected indent\n"
     ]
    }
   ],
   "source": [
    "# Find the div elements containing video details\n",
    "    video_divs = soup.find_all('div', {'id': 'dismissible'})\n",
    "    "
   ]
  },
  {
   "cell_type": "code",
   "execution_count": 62,
   "id": "23ddae89-a810-4a23-a6c6-dedd53418e73",
   "metadata": {},
   "outputs": [],
   "source": [
    "channel_url = \"https://www.youtube.com/@PW-Foundation/videos\"\n",
    "response = requests.get(channel_url)\n",
    "soup = BeautifulSoup(response.content, \"html.parser\")\n",
    "resonse = requests.get(channel_url)\n",
    "num_videos = 5"
   ]
  },
  {
   "cell_type": "code",
   "execution_count": 48,
   "id": "093649e5-8ca4-49f1-9adf-e45c88f80843",
   "metadata": {},
   "outputs": [],
   "source": [
    "extract_video_urls(channel_url, num_videos)"
   ]
  },
  {
   "cell_type": "code",
   "execution_count": 49,
   "id": "577ffdff-4ef9-40c0-a5be-fbafe8fa48b7",
   "metadata": {},
   "outputs": [],
   "source": [
    "video_urls = extract_video_urls(channel_url, num_videos)"
   ]
  },
  {
   "cell_type": "code",
   "execution_count": 24,
   "id": "b2440ffb-8b64-4400-ac2b-5fff68e2028e",
   "metadata": {},
   "outputs": [],
   "source": [
    "video_urls = []\n",
    "for div in video_divs[:num_videos]:\n",
    "    # Find the anchor tag containing the video URL\n",
    "    link = div.find('a', {'id': 'thumbnail'})\n",
    "    if link is not None:\n",
    "        video_url = 'https://www.youtube.com' + link['href']\n",
    "        video_urls.append(video_url)"
   ]
  },
  {
   "cell_type": "code",
   "execution_count": 22,
   "id": "4377ba62-1597-44e1-a739-354655e1b3f1",
   "metadata": {},
   "outputs": [],
   "source": [
    "for url in video_urls:\n",
    "    print(url)"
   ]
  },
  {
   "cell_type": "code",
   "execution_count": 23,
   "id": "7b3b37d2-2e3a-4041-90aa-ea411a153d22",
   "metadata": {},
   "outputs": [
    {
     "data": {
      "text/plain": [
       "3"
      ]
     },
     "execution_count": 23,
     "metadata": {},
     "output_type": "execute_result"
    }
   ],
   "source": [
    "1+2"
   ]
  },
  {
   "cell_type": "code",
   "execution_count": 50,
   "id": "baeac692-e7dd-4f9f-8dca-66a0020515db",
   "metadata": {},
   "outputs": [
    {
     "ename": "TypeError",
     "evalue": "'NoneType' object is not subscriptable",
     "output_type": "error",
     "traceback": [
      "\u001b[0;31m---------------------------------------------------------------------------\u001b[0m",
      "\u001b[0;31mTypeError\u001b[0m                                 Traceback (most recent call last)",
      "Cell \u001b[0;32mIn[50], line 6\u001b[0m\n\u001b[1;32m      3\u001b[0m \u001b[38;5;28;01mfor\u001b[39;00m div \u001b[38;5;129;01min\u001b[39;00m video_divs[:num_videos]:\n\u001b[1;32m      4\u001b[0m     \u001b[38;5;66;03m# Find the anchor tag containing the video URL\u001b[39;00m\n\u001b[1;32m      5\u001b[0m     link \u001b[38;5;241m=\u001b[39m div\u001b[38;5;241m.\u001b[39mfind(\u001b[38;5;124m'\u001b[39m\u001b[38;5;124ma\u001b[39m\u001b[38;5;124m'\u001b[39m, {\u001b[38;5;124m'\u001b[39m\u001b[38;5;124mid\u001b[39m\u001b[38;5;124m'\u001b[39m: \u001b[38;5;124m'\u001b[39m\u001b[38;5;124mthumbnail\u001b[39m\u001b[38;5;124m'\u001b[39m})\n\u001b[0;32m----> 6\u001b[0m     video_url \u001b[38;5;241m=\u001b[39m \u001b[38;5;124m'\u001b[39m\u001b[38;5;124mhttps://www.youtube.com\u001b[39m\u001b[38;5;124m'\u001b[39m \u001b[38;5;241m+\u001b[39m \u001b[43mlink\u001b[49m\u001b[43m[\u001b[49m\u001b[38;5;124;43m'\u001b[39;49m\u001b[38;5;124;43mhref\u001b[39;49m\u001b[38;5;124;43m'\u001b[39;49m\u001b[43m]\u001b[49m\n\u001b[1;32m      7\u001b[0m     video_urls\u001b[38;5;241m.\u001b[39mappend(video_url)    \n",
      "\u001b[0;31mTypeError\u001b[0m: 'NoneType' object is not subscriptable"
     ]
    }
   ],
   "source": [
    "# Extract video URLs from the div elements\n",
    "video_urls = []\n",
    "for div in video_divs[:num_videos]:\n",
    "    # Find the anchor tag containing the video URL\n",
    "    link = div.find('a', {'id': 'thumbnail'})\n",
    "    video_url = 'https://www.youtube.com' + link['href']\n",
    "    video_urls.append(video_url)    \n",
    "    "
   ]
  },
  {
   "cell_type": "code",
   "execution_count": 78,
   "id": "144d0ce4-0d80-464f-91a8-f8a8c7c2fd77",
   "metadata": {},
   "outputs": [],
   "source": [
    "for url in video_urls:\n",
    "    print(url)"
   ]
  },
  {
   "cell_type": "code",
   "execution_count": null,
   "id": "9b295145-5c86-4096-aea5-e952756e4a17",
   "metadata": {},
   "outputs": [],
   "source": [
    "thumbnail_urls = extract_thumbnail_urls(channel_url, num_videos)\n"
   ]
  },
  {
   "cell_type": "code",
   "execution_count": 74,
   "id": "4a1542ab-937a-4954-b724-c2e978ad9e14",
   "metadata": {},
   "outputs": [
    {
     "ename": "IndentationError",
     "evalue": "unexpected indent (3929092858.py, line 2)",
     "output_type": "error",
     "traceback": [
      "\u001b[0;36m  Cell \u001b[0;32mIn[74], line 2\u001b[0;36m\u001b[0m\n\u001b[0;31m    thumbnail_urls = []\u001b[0m\n\u001b[0m    ^\u001b[0m\n\u001b[0;31mIndentationError\u001b[0m\u001b[0;31m:\u001b[0m unexpected indent\n"
     ]
    }
   ],
   "source": [
    "# Extract thumbnail URLs from the div elements\n",
    "    thumbnail_urls = []\n",
    "    for div in video_divs[:num_videos]:\n",
    "        # Find the img tag containing the thumbnail URL\n",
    "        thumbnail_img = div.find('img')\n",
    "        thumbnail_url = thumbnail_img['src']\n",
    "        thumbnail_urls.append(thumbnail_url)\n",
    "\n",
    "    return thumbnail_urls"
   ]
  },
  {
   "cell_type": "code",
   "execution_count": 75,
   "id": "ad3ebfbf-6cb7-47f7-a74e-0900d91c39a4",
   "metadata": {},
   "outputs": [],
   "source": [
    "import requests\n",
    "from bs4 import BeautifulSoup\n",
    "\n",
    "def extract_thumbnail_urls(channel_url, num_videos):\n",
    "    # Fetch the HTML content of the webpage\n",
    "    response = requests.get(channel_url)\n",
    "    html_content = response.text\n",
    "\n",
    "    # Create a BeautifulSoup object to parse the HTML\n",
    "    soup = BeautifulSoup(html_content, 'html.parser')\n",
    "\n",
    "    # Find the div elements containing video details\n",
    "    video_divs = soup.find_all('div', {'id': 'dismissible'})\n",
    "\n",
    "    # Extract thumbnail URLs from the div elements\n",
    "    thumbnail_urls = []\n",
    "    for div in video_divs[:num_videos]:\n",
    "        # Find the img tag containing the thumbnail URL\n",
    "        thumbnail_img = div.find('img')\n",
    "        thumbnail_url = thumbnail_img['src']\n",
    "        thumbnail_urls.append(thumbnail_url)\n",
    "\n",
    "    return thumbnail_urls\n",
    "\n",
    "# URL of the YouTube channel and the number of videos to extract\n",
    "channel_url = 'https://www.youtube.com/@PW-Foundation/videos'\n",
    "num_videos = 5\n",
    "\n",
    "# Extract thumbnail URLs\n",
    "thumbnail_urls = extract_thumbnail_urls(channel_url, num_videos)\n",
    "\n",
    "# Print the extracted thumbnail URLs\n",
    "for url in thumbnail_urls:\n",
    "    print(url)"
   ]
  },
  {
   "cell_type": "code",
   "execution_count": null,
   "id": "b05d22e4-f6dc-46b1-af7a-66d94ad70344",
   "metadata": {},
   "outputs": [],
   "source": []
  }
 ],
 "metadata": {
  "kernelspec": {
   "display_name": "Python 3 (ipykernel)",
   "language": "python",
   "name": "python3"
  },
  "language_info": {
   "codemirror_mode": {
    "name": "ipython",
    "version": 3
   },
   "file_extension": ".py",
   "mimetype": "text/x-python",
   "name": "python",
   "nbconvert_exporter": "python",
   "pygments_lexer": "ipython3",
   "version": "3.10.8"
  }
 },
 "nbformat": 4,
 "nbformat_minor": 5
}
